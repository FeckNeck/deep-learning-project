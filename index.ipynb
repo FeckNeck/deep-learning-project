{
 "cells": [
  {
   "cell_type": "markdown",
   "metadata": {},
   "source": [
    "# Deep learning : cas d’étude\n",
    "\n",
    "Cette étude consiste à réaliser un outil de classification basé sur un algorithme portant sur les réseaux de neurones artificiels. "
   ]
  },
  {
   "cell_type": "code",
   "execution_count": 68,
   "metadata": {},
   "outputs": [],
   "source": [
    "import warnings\n",
    "warnings.filterwarnings('ignore')\n",
    "\n",
    "from math import isnan\n",
    "import numpy as np\n",
    "import pandas as pd\n",
    "\n",
    "import matplotlib.pyplot as plt\n",
    "import plotly.express as px\n",
    "\n",
    "from sklearn.preprocessing import StandardScaler\n",
    "from sklearn.preprocessing import OneHotEncoder\n",
    "from sklearn.metrics import accuracy_score\n",
    "from sklearn.model_selection import train_test_split\n",
    "\n",
    "import torch \n",
    "from torch.utils.data import DataLoader\n",
    "\n",
    "import custom_functions"
   ]
  },
  {
   "cell_type": "markdown",
   "metadata": {},
   "source": [
    "## Importation des données\n",
    "\n",
    "Spotify_songs : fichier csv contenant + de 30 000 chansons"
   ]
  },
  {
   "cell_type": "code",
   "execution_count": 69,
   "metadata": {},
   "outputs": [
    {
     "data": {
      "text/html": [
       "<div>\n",
       "<style scoped>\n",
       "    .dataframe tbody tr th:only-of-type {\n",
       "        vertical-align: middle;\n",
       "    }\n",
       "\n",
       "    .dataframe tbody tr th {\n",
       "        vertical-align: top;\n",
       "    }\n",
       "\n",
       "    .dataframe thead th {\n",
       "        text-align: right;\n",
       "    }\n",
       "</style>\n",
       "<table border=\"1\" class=\"dataframe\">\n",
       "  <thead>\n",
       "    <tr style=\"text-align: right;\">\n",
       "      <th></th>\n",
       "      <th>track_id</th>\n",
       "      <th>track_name</th>\n",
       "      <th>track_artist</th>\n",
       "      <th>track_popularity</th>\n",
       "      <th>track_album_id</th>\n",
       "      <th>track_album_name</th>\n",
       "      <th>track_album_release_date</th>\n",
       "      <th>playlist_name</th>\n",
       "      <th>playlist_id</th>\n",
       "      <th>playlist_genre</th>\n",
       "      <th>playlist_subgenre</th>\n",
       "      <th>danceability</th>\n",
       "      <th>energy</th>\n",
       "      <th>key</th>\n",
       "      <th>loudness</th>\n",
       "      <th>mode</th>\n",
       "      <th>speechiness</th>\n",
       "      <th>acousticness</th>\n",
       "      <th>instrumentalness</th>\n",
       "      <th>liveness</th>\n",
       "      <th>valence</th>\n",
       "      <th>tempo</th>\n",
       "      <th>duration_ms</th>\n",
       "    </tr>\n",
       "  </thead>\n",
       "  <tbody>\n",
       "    <tr>\n",
       "      <th>0</th>\n",
       "      <td>6f807x0ima9a1j3VPbc7VN</td>\n",
       "      <td>I Don't Care (with Justin Bieber) - Loud Luxur...</td>\n",
       "      <td>Ed Sheeran</td>\n",
       "      <td>66</td>\n",
       "      <td>2oCs0DGTsRO98Gh5ZSl2Cx</td>\n",
       "      <td>I Don't Care (with Justin Bieber) [Loud Luxury...</td>\n",
       "      <td>2019-06-14</td>\n",
       "      <td>Pop Remix</td>\n",
       "      <td>37i9dQZF1DXcZDD7cfEKhW</td>\n",
       "      <td>pop</td>\n",
       "      <td>dance pop</td>\n",
       "      <td>0.748</td>\n",
       "      <td>0.916</td>\n",
       "      <td>6</td>\n",
       "      <td>-2.634</td>\n",
       "      <td>1</td>\n",
       "      <td>0.0583</td>\n",
       "      <td>0.102000</td>\n",
       "      <td>0.000000</td>\n",
       "      <td>0.0653</td>\n",
       "      <td>0.5180</td>\n",
       "      <td>122.036</td>\n",
       "      <td>194754</td>\n",
       "    </tr>\n",
       "    <tr>\n",
       "      <th>1</th>\n",
       "      <td>0r7CVbZTWZgbTCYdfa2P31</td>\n",
       "      <td>Memories - Dillon Francis Remix</td>\n",
       "      <td>Maroon 5</td>\n",
       "      <td>67</td>\n",
       "      <td>63rPSO264uRjW1X5E6cWv6</td>\n",
       "      <td>Memories (Dillon Francis Remix)</td>\n",
       "      <td>2019-12-13</td>\n",
       "      <td>Pop Remix</td>\n",
       "      <td>37i9dQZF1DXcZDD7cfEKhW</td>\n",
       "      <td>pop</td>\n",
       "      <td>dance pop</td>\n",
       "      <td>0.726</td>\n",
       "      <td>0.815</td>\n",
       "      <td>11</td>\n",
       "      <td>-4.969</td>\n",
       "      <td>1</td>\n",
       "      <td>0.0373</td>\n",
       "      <td>0.072400</td>\n",
       "      <td>0.004210</td>\n",
       "      <td>0.3570</td>\n",
       "      <td>0.6930</td>\n",
       "      <td>99.972</td>\n",
       "      <td>162600</td>\n",
       "    </tr>\n",
       "    <tr>\n",
       "      <th>2</th>\n",
       "      <td>1z1Hg7Vb0AhHDiEmnDE79l</td>\n",
       "      <td>All the Time - Don Diablo Remix</td>\n",
       "      <td>Zara Larsson</td>\n",
       "      <td>70</td>\n",
       "      <td>1HoSmj2eLcsrR0vE9gThr4</td>\n",
       "      <td>All the Time (Don Diablo Remix)</td>\n",
       "      <td>2019-07-05</td>\n",
       "      <td>Pop Remix</td>\n",
       "      <td>37i9dQZF1DXcZDD7cfEKhW</td>\n",
       "      <td>pop</td>\n",
       "      <td>dance pop</td>\n",
       "      <td>0.675</td>\n",
       "      <td>0.931</td>\n",
       "      <td>1</td>\n",
       "      <td>-3.432</td>\n",
       "      <td>0</td>\n",
       "      <td>0.0742</td>\n",
       "      <td>0.079400</td>\n",
       "      <td>0.000023</td>\n",
       "      <td>0.1100</td>\n",
       "      <td>0.6130</td>\n",
       "      <td>124.008</td>\n",
       "      <td>176616</td>\n",
       "    </tr>\n",
       "    <tr>\n",
       "      <th>3</th>\n",
       "      <td>75FpbthrwQmzHlBJLuGdC7</td>\n",
       "      <td>Call You Mine - Keanu Silva Remix</td>\n",
       "      <td>The Chainsmokers</td>\n",
       "      <td>60</td>\n",
       "      <td>1nqYsOef1yKKuGOVchbsk6</td>\n",
       "      <td>Call You Mine - The Remixes</td>\n",
       "      <td>2019-07-19</td>\n",
       "      <td>Pop Remix</td>\n",
       "      <td>37i9dQZF1DXcZDD7cfEKhW</td>\n",
       "      <td>pop</td>\n",
       "      <td>dance pop</td>\n",
       "      <td>0.718</td>\n",
       "      <td>0.930</td>\n",
       "      <td>7</td>\n",
       "      <td>-3.778</td>\n",
       "      <td>1</td>\n",
       "      <td>0.1020</td>\n",
       "      <td>0.028700</td>\n",
       "      <td>0.000009</td>\n",
       "      <td>0.2040</td>\n",
       "      <td>0.2770</td>\n",
       "      <td>121.956</td>\n",
       "      <td>169093</td>\n",
       "    </tr>\n",
       "    <tr>\n",
       "      <th>4</th>\n",
       "      <td>1e8PAfcKUYoKkxPhrHqw4x</td>\n",
       "      <td>Someone You Loved - Future Humans Remix</td>\n",
       "      <td>Lewis Capaldi</td>\n",
       "      <td>69</td>\n",
       "      <td>7m7vv9wlQ4i0LFuJiE2zsQ</td>\n",
       "      <td>Someone You Loved (Future Humans Remix)</td>\n",
       "      <td>2019-03-05</td>\n",
       "      <td>Pop Remix</td>\n",
       "      <td>37i9dQZF1DXcZDD7cfEKhW</td>\n",
       "      <td>pop</td>\n",
       "      <td>dance pop</td>\n",
       "      <td>0.650</td>\n",
       "      <td>0.833</td>\n",
       "      <td>1</td>\n",
       "      <td>-4.672</td>\n",
       "      <td>1</td>\n",
       "      <td>0.0359</td>\n",
       "      <td>0.080300</td>\n",
       "      <td>0.000000</td>\n",
       "      <td>0.0833</td>\n",
       "      <td>0.7250</td>\n",
       "      <td>123.976</td>\n",
       "      <td>189052</td>\n",
       "    </tr>\n",
       "    <tr>\n",
       "      <th>...</th>\n",
       "      <td>...</td>\n",
       "      <td>...</td>\n",
       "      <td>...</td>\n",
       "      <td>...</td>\n",
       "      <td>...</td>\n",
       "      <td>...</td>\n",
       "      <td>...</td>\n",
       "      <td>...</td>\n",
       "      <td>...</td>\n",
       "      <td>...</td>\n",
       "      <td>...</td>\n",
       "      <td>...</td>\n",
       "      <td>...</td>\n",
       "      <td>...</td>\n",
       "      <td>...</td>\n",
       "      <td>...</td>\n",
       "      <td>...</td>\n",
       "      <td>...</td>\n",
       "      <td>...</td>\n",
       "      <td>...</td>\n",
       "      <td>...</td>\n",
       "      <td>...</td>\n",
       "      <td>...</td>\n",
       "    </tr>\n",
       "    <tr>\n",
       "      <th>32828</th>\n",
       "      <td>7bxnKAamR3snQ1VGLuVfC1</td>\n",
       "      <td>City Of Lights - Official Radio Edit</td>\n",
       "      <td>Lush &amp; Simon</td>\n",
       "      <td>42</td>\n",
       "      <td>2azRoBBWEEEYhqV6sb7JrT</td>\n",
       "      <td>City Of Lights (Vocal Mix)</td>\n",
       "      <td>2014-04-28</td>\n",
       "      <td>♥ EDM LOVE 2020</td>\n",
       "      <td>6jI1gFr6ANFtT8MmTvA2Ux</td>\n",
       "      <td>edm</td>\n",
       "      <td>progressive electro house</td>\n",
       "      <td>0.428</td>\n",
       "      <td>0.922</td>\n",
       "      <td>2</td>\n",
       "      <td>-1.814</td>\n",
       "      <td>1</td>\n",
       "      <td>0.0936</td>\n",
       "      <td>0.076600</td>\n",
       "      <td>0.000000</td>\n",
       "      <td>0.0668</td>\n",
       "      <td>0.2100</td>\n",
       "      <td>128.170</td>\n",
       "      <td>204375</td>\n",
       "    </tr>\n",
       "    <tr>\n",
       "      <th>32829</th>\n",
       "      <td>5Aevni09Em4575077nkWHz</td>\n",
       "      <td>Closer - Sultan &amp; Ned Shepard Remix</td>\n",
       "      <td>Tegan and Sara</td>\n",
       "      <td>20</td>\n",
       "      <td>6kD6KLxj7s8eCE3ABvAyf5</td>\n",
       "      <td>Closer Remixed</td>\n",
       "      <td>2013-03-08</td>\n",
       "      <td>♥ EDM LOVE 2020</td>\n",
       "      <td>6jI1gFr6ANFtT8MmTvA2Ux</td>\n",
       "      <td>edm</td>\n",
       "      <td>progressive electro house</td>\n",
       "      <td>0.522</td>\n",
       "      <td>0.786</td>\n",
       "      <td>0</td>\n",
       "      <td>-4.462</td>\n",
       "      <td>1</td>\n",
       "      <td>0.0420</td>\n",
       "      <td>0.001710</td>\n",
       "      <td>0.004270</td>\n",
       "      <td>0.3750</td>\n",
       "      <td>0.4000</td>\n",
       "      <td>128.041</td>\n",
       "      <td>353120</td>\n",
       "    </tr>\n",
       "    <tr>\n",
       "      <th>32830</th>\n",
       "      <td>7ImMqPP3Q1yfUHvsdn7wEo</td>\n",
       "      <td>Sweet Surrender - Radio Edit</td>\n",
       "      <td>Starkillers</td>\n",
       "      <td>14</td>\n",
       "      <td>0ltWNSY9JgxoIZO4VzuCa6</td>\n",
       "      <td>Sweet Surrender (Radio Edit)</td>\n",
       "      <td>2014-04-21</td>\n",
       "      <td>♥ EDM LOVE 2020</td>\n",
       "      <td>6jI1gFr6ANFtT8MmTvA2Ux</td>\n",
       "      <td>edm</td>\n",
       "      <td>progressive electro house</td>\n",
       "      <td>0.529</td>\n",
       "      <td>0.821</td>\n",
       "      <td>6</td>\n",
       "      <td>-4.899</td>\n",
       "      <td>0</td>\n",
       "      <td>0.0481</td>\n",
       "      <td>0.108000</td>\n",
       "      <td>0.000001</td>\n",
       "      <td>0.1500</td>\n",
       "      <td>0.4360</td>\n",
       "      <td>127.989</td>\n",
       "      <td>210112</td>\n",
       "    </tr>\n",
       "    <tr>\n",
       "      <th>32831</th>\n",
       "      <td>2m69mhnfQ1Oq6lGtXuYhgX</td>\n",
       "      <td>Only For You - Maor Levi Remix</td>\n",
       "      <td>Mat Zo</td>\n",
       "      <td>15</td>\n",
       "      <td>1fGrOkHnHJcStl14zNx8Jy</td>\n",
       "      <td>Only For You (Remixes)</td>\n",
       "      <td>2014-01-01</td>\n",
       "      <td>♥ EDM LOVE 2020</td>\n",
       "      <td>6jI1gFr6ANFtT8MmTvA2Ux</td>\n",
       "      <td>edm</td>\n",
       "      <td>progressive electro house</td>\n",
       "      <td>0.626</td>\n",
       "      <td>0.888</td>\n",
       "      <td>2</td>\n",
       "      <td>-3.361</td>\n",
       "      <td>1</td>\n",
       "      <td>0.1090</td>\n",
       "      <td>0.007920</td>\n",
       "      <td>0.127000</td>\n",
       "      <td>0.3430</td>\n",
       "      <td>0.3080</td>\n",
       "      <td>128.008</td>\n",
       "      <td>367432</td>\n",
       "    </tr>\n",
       "    <tr>\n",
       "      <th>32832</th>\n",
       "      <td>29zWqhca3zt5NsckZqDf6c</td>\n",
       "      <td>Typhoon - Original Mix</td>\n",
       "      <td>Julian Calor</td>\n",
       "      <td>27</td>\n",
       "      <td>0X3mUOm6MhxR7PzxG95rAo</td>\n",
       "      <td>Typhoon/Storm</td>\n",
       "      <td>2014-03-03</td>\n",
       "      <td>♥ EDM LOVE 2020</td>\n",
       "      <td>6jI1gFr6ANFtT8MmTvA2Ux</td>\n",
       "      <td>edm</td>\n",
       "      <td>progressive electro house</td>\n",
       "      <td>0.603</td>\n",
       "      <td>0.884</td>\n",
       "      <td>5</td>\n",
       "      <td>-4.571</td>\n",
       "      <td>0</td>\n",
       "      <td>0.0385</td>\n",
       "      <td>0.000133</td>\n",
       "      <td>0.341000</td>\n",
       "      <td>0.7420</td>\n",
       "      <td>0.0894</td>\n",
       "      <td>127.984</td>\n",
       "      <td>337500</td>\n",
       "    </tr>\n",
       "  </tbody>\n",
       "</table>\n",
       "<p>32833 rows × 23 columns</p>\n",
       "</div>"
      ],
      "text/plain": [
       "                     track_id  \\\n",
       "0      6f807x0ima9a1j3VPbc7VN   \n",
       "1      0r7CVbZTWZgbTCYdfa2P31   \n",
       "2      1z1Hg7Vb0AhHDiEmnDE79l   \n",
       "3      75FpbthrwQmzHlBJLuGdC7   \n",
       "4      1e8PAfcKUYoKkxPhrHqw4x   \n",
       "...                       ...   \n",
       "32828  7bxnKAamR3snQ1VGLuVfC1   \n",
       "32829  5Aevni09Em4575077nkWHz   \n",
       "32830  7ImMqPP3Q1yfUHvsdn7wEo   \n",
       "32831  2m69mhnfQ1Oq6lGtXuYhgX   \n",
       "32832  29zWqhca3zt5NsckZqDf6c   \n",
       "\n",
       "                                              track_name      track_artist  \\\n",
       "0      I Don't Care (with Justin Bieber) - Loud Luxur...        Ed Sheeran   \n",
       "1                        Memories - Dillon Francis Remix          Maroon 5   \n",
       "2                        All the Time - Don Diablo Remix      Zara Larsson   \n",
       "3                      Call You Mine - Keanu Silva Remix  The Chainsmokers   \n",
       "4                Someone You Loved - Future Humans Remix     Lewis Capaldi   \n",
       "...                                                  ...               ...   \n",
       "32828               City Of Lights - Official Radio Edit      Lush & Simon   \n",
       "32829                Closer - Sultan & Ned Shepard Remix    Tegan and Sara   \n",
       "32830                       Sweet Surrender - Radio Edit       Starkillers   \n",
       "32831                     Only For You - Maor Levi Remix            Mat Zo   \n",
       "32832                             Typhoon - Original Mix      Julian Calor   \n",
       "\n",
       "       track_popularity          track_album_id  \\\n",
       "0                    66  2oCs0DGTsRO98Gh5ZSl2Cx   \n",
       "1                    67  63rPSO264uRjW1X5E6cWv6   \n",
       "2                    70  1HoSmj2eLcsrR0vE9gThr4   \n",
       "3                    60  1nqYsOef1yKKuGOVchbsk6   \n",
       "4                    69  7m7vv9wlQ4i0LFuJiE2zsQ   \n",
       "...                 ...                     ...   \n",
       "32828                42  2azRoBBWEEEYhqV6sb7JrT   \n",
       "32829                20  6kD6KLxj7s8eCE3ABvAyf5   \n",
       "32830                14  0ltWNSY9JgxoIZO4VzuCa6   \n",
       "32831                15  1fGrOkHnHJcStl14zNx8Jy   \n",
       "32832                27  0X3mUOm6MhxR7PzxG95rAo   \n",
       "\n",
       "                                        track_album_name  \\\n",
       "0      I Don't Care (with Justin Bieber) [Loud Luxury...   \n",
       "1                        Memories (Dillon Francis Remix)   \n",
       "2                        All the Time (Don Diablo Remix)   \n",
       "3                            Call You Mine - The Remixes   \n",
       "4                Someone You Loved (Future Humans Remix)   \n",
       "...                                                  ...   \n",
       "32828                         City Of Lights (Vocal Mix)   \n",
       "32829                                     Closer Remixed   \n",
       "32830                       Sweet Surrender (Radio Edit)   \n",
       "32831                             Only For You (Remixes)   \n",
       "32832                                      Typhoon/Storm   \n",
       "\n",
       "      track_album_release_date    playlist_name             playlist_id  \\\n",
       "0                   2019-06-14        Pop Remix  37i9dQZF1DXcZDD7cfEKhW   \n",
       "1                   2019-12-13        Pop Remix  37i9dQZF1DXcZDD7cfEKhW   \n",
       "2                   2019-07-05        Pop Remix  37i9dQZF1DXcZDD7cfEKhW   \n",
       "3                   2019-07-19        Pop Remix  37i9dQZF1DXcZDD7cfEKhW   \n",
       "4                   2019-03-05        Pop Remix  37i9dQZF1DXcZDD7cfEKhW   \n",
       "...                        ...              ...                     ...   \n",
       "32828               2014-04-28  ♥ EDM LOVE 2020  6jI1gFr6ANFtT8MmTvA2Ux   \n",
       "32829               2013-03-08  ♥ EDM LOVE 2020  6jI1gFr6ANFtT8MmTvA2Ux   \n",
       "32830               2014-04-21  ♥ EDM LOVE 2020  6jI1gFr6ANFtT8MmTvA2Ux   \n",
       "32831               2014-01-01  ♥ EDM LOVE 2020  6jI1gFr6ANFtT8MmTvA2Ux   \n",
       "32832               2014-03-03  ♥ EDM LOVE 2020  6jI1gFr6ANFtT8MmTvA2Ux   \n",
       "\n",
       "      playlist_genre          playlist_subgenre  danceability  energy  key  \\\n",
       "0                pop                  dance pop         0.748   0.916    6   \n",
       "1                pop                  dance pop         0.726   0.815   11   \n",
       "2                pop                  dance pop         0.675   0.931    1   \n",
       "3                pop                  dance pop         0.718   0.930    7   \n",
       "4                pop                  dance pop         0.650   0.833    1   \n",
       "...              ...                        ...           ...     ...  ...   \n",
       "32828            edm  progressive electro house         0.428   0.922    2   \n",
       "32829            edm  progressive electro house         0.522   0.786    0   \n",
       "32830            edm  progressive electro house         0.529   0.821    6   \n",
       "32831            edm  progressive electro house         0.626   0.888    2   \n",
       "32832            edm  progressive electro house         0.603   0.884    5   \n",
       "\n",
       "       loudness  mode  speechiness  acousticness  instrumentalness  liveness  \\\n",
       "0        -2.634     1       0.0583      0.102000          0.000000    0.0653   \n",
       "1        -4.969     1       0.0373      0.072400          0.004210    0.3570   \n",
       "2        -3.432     0       0.0742      0.079400          0.000023    0.1100   \n",
       "3        -3.778     1       0.1020      0.028700          0.000009    0.2040   \n",
       "4        -4.672     1       0.0359      0.080300          0.000000    0.0833   \n",
       "...         ...   ...          ...           ...               ...       ...   \n",
       "32828    -1.814     1       0.0936      0.076600          0.000000    0.0668   \n",
       "32829    -4.462     1       0.0420      0.001710          0.004270    0.3750   \n",
       "32830    -4.899     0       0.0481      0.108000          0.000001    0.1500   \n",
       "32831    -3.361     1       0.1090      0.007920          0.127000    0.3430   \n",
       "32832    -4.571     0       0.0385      0.000133          0.341000    0.7420   \n",
       "\n",
       "       valence    tempo  duration_ms  \n",
       "0       0.5180  122.036       194754  \n",
       "1       0.6930   99.972       162600  \n",
       "2       0.6130  124.008       176616  \n",
       "3       0.2770  121.956       169093  \n",
       "4       0.7250  123.976       189052  \n",
       "...        ...      ...          ...  \n",
       "32828   0.2100  128.170       204375  \n",
       "32829   0.4000  128.041       353120  \n",
       "32830   0.4360  127.989       210112  \n",
       "32831   0.3080  128.008       367432  \n",
       "32832   0.0894  127.984       337500  \n",
       "\n",
       "[32833 rows x 23 columns]"
      ]
     },
     "execution_count": 69,
     "metadata": {},
     "output_type": "execute_result"
    }
   ],
   "source": [
    "spotify = pd.read_csv(\".\\data\\spotify_songs.csv\")\n",
    "pd.set_option('display.max_columns',500)\n",
    "spotify"
   ]
  },
  {
   "cell_type": "markdown",
   "metadata": {},
   "source": [
    "## Statistiques descriptives"
   ]
  },
  {
   "cell_type": "code",
   "execution_count": 70,
   "metadata": {},
   "outputs": [
    {
     "data": {
      "text/plain": [
       "(32833, 23)"
      ]
     },
     "execution_count": 70,
     "metadata": {},
     "output_type": "execute_result"
    }
   ],
   "source": [
    "#Dimensions de notre jeu de données\n",
    "spotify.shape #+ de 30 000 lignes pour 23 colonnes"
   ]
  },
  {
   "cell_type": "code",
   "execution_count": 71,
   "metadata": {},
   "outputs": [
    {
     "name": "stdout",
     "output_type": "stream",
     "text": [
      "<class 'pandas.core.frame.DataFrame'>\n",
      "RangeIndex: 32833 entries, 0 to 32832\n",
      "Data columns (total 23 columns):\n",
      " #   Column                    Non-Null Count  Dtype  \n",
      "---  ------                    --------------  -----  \n",
      " 0   track_id                  32833 non-null  object \n",
      " 1   track_name                32828 non-null  object \n",
      " 2   track_artist              32828 non-null  object \n",
      " 3   track_popularity          32833 non-null  int64  \n",
      " 4   track_album_id            32833 non-null  object \n",
      " 5   track_album_name          32828 non-null  object \n",
      " 6   track_album_release_date  32833 non-null  object \n",
      " 7   playlist_name             32833 non-null  object \n",
      " 8   playlist_id               32833 non-null  object \n",
      " 9   playlist_genre            32833 non-null  object \n",
      " 10  playlist_subgenre         32833 non-null  object \n",
      " 11  danceability              32833 non-null  float64\n",
      " 12  energy                    32833 non-null  float64\n",
      " 13  key                       32833 non-null  int64  \n",
      " 14  loudness                  32833 non-null  float64\n",
      " 15  mode                      32833 non-null  int64  \n",
      " 16  speechiness               32833 non-null  float64\n",
      " 17  acousticness              32833 non-null  float64\n",
      " 18  instrumentalness          32833 non-null  float64\n",
      " 19  liveness                  32833 non-null  float64\n",
      " 20  valence                   32833 non-null  float64\n",
      " 21  tempo                     32833 non-null  float64\n",
      " 22  duration_ms               32833 non-null  int64  \n",
      "dtypes: float64(9), int64(4), object(10)\n",
      "memory usage: 5.8+ MB\n"
     ]
    }
   ],
   "source": [
    "#Description des variables et leur type \n",
    "spotify.info() "
   ]
  },
  {
   "cell_type": "code",
   "execution_count": 49,
   "metadata": {},
   "outputs": [
    {
     "data": {
      "text/html": [
       "<div>\n",
       "<style scoped>\n",
       "    .dataframe tbody tr th:only-of-type {\n",
       "        vertical-align: middle;\n",
       "    }\n",
       "\n",
       "    .dataframe tbody tr th {\n",
       "        vertical-align: top;\n",
       "    }\n",
       "\n",
       "    .dataframe thead th {\n",
       "        text-align: right;\n",
       "    }\n",
       "</style>\n",
       "<table border=\"1\" class=\"dataframe\">\n",
       "  <thead>\n",
       "    <tr style=\"text-align: right;\">\n",
       "      <th></th>\n",
       "      <th>track_popularity</th>\n",
       "      <th>danceability</th>\n",
       "      <th>energy</th>\n",
       "      <th>key</th>\n",
       "      <th>loudness</th>\n",
       "      <th>mode</th>\n",
       "      <th>speechiness</th>\n",
       "      <th>acousticness</th>\n",
       "      <th>instrumentalness</th>\n",
       "      <th>liveness</th>\n",
       "      <th>valence</th>\n",
       "      <th>tempo</th>\n",
       "      <th>duration_ms</th>\n",
       "    </tr>\n",
       "  </thead>\n",
       "  <tbody>\n",
       "    <tr>\n",
       "      <th>count</th>\n",
       "      <td>32833.000000</td>\n",
       "      <td>32833.000000</td>\n",
       "      <td>32833.000000</td>\n",
       "      <td>32833.000000</td>\n",
       "      <td>32833.000000</td>\n",
       "      <td>32833.000000</td>\n",
       "      <td>32833.000000</td>\n",
       "      <td>32833.000000</td>\n",
       "      <td>32833.000000</td>\n",
       "      <td>32833.000000</td>\n",
       "      <td>32833.000000</td>\n",
       "      <td>32833.000000</td>\n",
       "      <td>32833.000000</td>\n",
       "    </tr>\n",
       "    <tr>\n",
       "      <th>mean</th>\n",
       "      <td>42.477081</td>\n",
       "      <td>0.654850</td>\n",
       "      <td>0.698619</td>\n",
       "      <td>5.374471</td>\n",
       "      <td>-6.719499</td>\n",
       "      <td>0.565711</td>\n",
       "      <td>0.107068</td>\n",
       "      <td>0.175334</td>\n",
       "      <td>0.084747</td>\n",
       "      <td>0.190176</td>\n",
       "      <td>0.510561</td>\n",
       "      <td>120.881132</td>\n",
       "      <td>225799.811622</td>\n",
       "    </tr>\n",
       "    <tr>\n",
       "      <th>std</th>\n",
       "      <td>24.984074</td>\n",
       "      <td>0.145085</td>\n",
       "      <td>0.180910</td>\n",
       "      <td>3.611657</td>\n",
       "      <td>2.988436</td>\n",
       "      <td>0.495671</td>\n",
       "      <td>0.101314</td>\n",
       "      <td>0.219633</td>\n",
       "      <td>0.224230</td>\n",
       "      <td>0.154317</td>\n",
       "      <td>0.233146</td>\n",
       "      <td>26.903624</td>\n",
       "      <td>59834.006182</td>\n",
       "    </tr>\n",
       "    <tr>\n",
       "      <th>min</th>\n",
       "      <td>0.000000</td>\n",
       "      <td>0.000000</td>\n",
       "      <td>0.000175</td>\n",
       "      <td>0.000000</td>\n",
       "      <td>-46.448000</td>\n",
       "      <td>0.000000</td>\n",
       "      <td>0.000000</td>\n",
       "      <td>0.000000</td>\n",
       "      <td>0.000000</td>\n",
       "      <td>0.000000</td>\n",
       "      <td>0.000000</td>\n",
       "      <td>0.000000</td>\n",
       "      <td>4000.000000</td>\n",
       "    </tr>\n",
       "    <tr>\n",
       "      <th>25%</th>\n",
       "      <td>24.000000</td>\n",
       "      <td>0.563000</td>\n",
       "      <td>0.581000</td>\n",
       "      <td>2.000000</td>\n",
       "      <td>-8.171000</td>\n",
       "      <td>0.000000</td>\n",
       "      <td>0.041000</td>\n",
       "      <td>0.015100</td>\n",
       "      <td>0.000000</td>\n",
       "      <td>0.092700</td>\n",
       "      <td>0.331000</td>\n",
       "      <td>99.960000</td>\n",
       "      <td>187819.000000</td>\n",
       "    </tr>\n",
       "    <tr>\n",
       "      <th>50%</th>\n",
       "      <td>45.000000</td>\n",
       "      <td>0.672000</td>\n",
       "      <td>0.721000</td>\n",
       "      <td>6.000000</td>\n",
       "      <td>-6.166000</td>\n",
       "      <td>1.000000</td>\n",
       "      <td>0.062500</td>\n",
       "      <td>0.080400</td>\n",
       "      <td>0.000016</td>\n",
       "      <td>0.127000</td>\n",
       "      <td>0.512000</td>\n",
       "      <td>121.984000</td>\n",
       "      <td>216000.000000</td>\n",
       "    </tr>\n",
       "    <tr>\n",
       "      <th>75%</th>\n",
       "      <td>62.000000</td>\n",
       "      <td>0.761000</td>\n",
       "      <td>0.840000</td>\n",
       "      <td>9.000000</td>\n",
       "      <td>-4.645000</td>\n",
       "      <td>1.000000</td>\n",
       "      <td>0.132000</td>\n",
       "      <td>0.255000</td>\n",
       "      <td>0.004830</td>\n",
       "      <td>0.248000</td>\n",
       "      <td>0.693000</td>\n",
       "      <td>133.918000</td>\n",
       "      <td>253585.000000</td>\n",
       "    </tr>\n",
       "    <tr>\n",
       "      <th>max</th>\n",
       "      <td>100.000000</td>\n",
       "      <td>0.983000</td>\n",
       "      <td>1.000000</td>\n",
       "      <td>11.000000</td>\n",
       "      <td>1.275000</td>\n",
       "      <td>1.000000</td>\n",
       "      <td>0.918000</td>\n",
       "      <td>0.994000</td>\n",
       "      <td>0.994000</td>\n",
       "      <td>0.996000</td>\n",
       "      <td>0.991000</td>\n",
       "      <td>239.440000</td>\n",
       "      <td>517810.000000</td>\n",
       "    </tr>\n",
       "  </tbody>\n",
       "</table>\n",
       "</div>"
      ],
      "text/plain": [
       "       track_popularity  danceability        energy           key  \\\n",
       "count      32833.000000  32833.000000  32833.000000  32833.000000   \n",
       "mean          42.477081      0.654850      0.698619      5.374471   \n",
       "std           24.984074      0.145085      0.180910      3.611657   \n",
       "min            0.000000      0.000000      0.000175      0.000000   \n",
       "25%           24.000000      0.563000      0.581000      2.000000   \n",
       "50%           45.000000      0.672000      0.721000      6.000000   \n",
       "75%           62.000000      0.761000      0.840000      9.000000   \n",
       "max          100.000000      0.983000      1.000000     11.000000   \n",
       "\n",
       "           loudness          mode   speechiness  acousticness  \\\n",
       "count  32833.000000  32833.000000  32833.000000  32833.000000   \n",
       "mean      -6.719499      0.565711      0.107068      0.175334   \n",
       "std        2.988436      0.495671      0.101314      0.219633   \n",
       "min      -46.448000      0.000000      0.000000      0.000000   \n",
       "25%       -8.171000      0.000000      0.041000      0.015100   \n",
       "50%       -6.166000      1.000000      0.062500      0.080400   \n",
       "75%       -4.645000      1.000000      0.132000      0.255000   \n",
       "max        1.275000      1.000000      0.918000      0.994000   \n",
       "\n",
       "       instrumentalness      liveness       valence         tempo  \\\n",
       "count      32833.000000  32833.000000  32833.000000  32833.000000   \n",
       "mean           0.084747      0.190176      0.510561    120.881132   \n",
       "std            0.224230      0.154317      0.233146     26.903624   \n",
       "min            0.000000      0.000000      0.000000      0.000000   \n",
       "25%            0.000000      0.092700      0.331000     99.960000   \n",
       "50%            0.000016      0.127000      0.512000    121.984000   \n",
       "75%            0.004830      0.248000      0.693000    133.918000   \n",
       "max            0.994000      0.996000      0.991000    239.440000   \n",
       "\n",
       "         duration_ms  \n",
       "count   32833.000000  \n",
       "mean   225799.811622  \n",
       "std     59834.006182  \n",
       "min      4000.000000  \n",
       "25%    187819.000000  \n",
       "50%    216000.000000  \n",
       "75%    253585.000000  \n",
       "max    517810.000000  "
      ]
     },
     "execution_count": 49,
     "metadata": {},
     "output_type": "execute_result"
    }
   ],
   "source": [
    "#Description des variables quantitatives\n",
    "spotify.describe() #beaucoup de disparités au niveau des unités, il faudra normaliser nos données"
   ]
  },
  {
   "cell_type": "code",
   "execution_count": 72,
   "metadata": {},
   "outputs": [
    {
     "data": {
      "text/html": [
       "<div>\n",
       "<style scoped>\n",
       "    .dataframe tbody tr th:only-of-type {\n",
       "        vertical-align: middle;\n",
       "    }\n",
       "\n",
       "    .dataframe tbody tr th {\n",
       "        vertical-align: top;\n",
       "    }\n",
       "\n",
       "    .dataframe thead th {\n",
       "        text-align: right;\n",
       "    }\n",
       "</style>\n",
       "<table border=\"1\" class=\"dataframe\">\n",
       "  <thead>\n",
       "    <tr style=\"text-align: right;\">\n",
       "      <th></th>\n",
       "      <th>track_id</th>\n",
       "      <th>track_name</th>\n",
       "      <th>track_artist</th>\n",
       "      <th>track_album_id</th>\n",
       "      <th>track_album_name</th>\n",
       "      <th>track_album_release_date</th>\n",
       "      <th>playlist_name</th>\n",
       "      <th>playlist_id</th>\n",
       "      <th>playlist_genre</th>\n",
       "      <th>playlist_subgenre</th>\n",
       "    </tr>\n",
       "  </thead>\n",
       "  <tbody>\n",
       "    <tr>\n",
       "      <th>count</th>\n",
       "      <td>32833</td>\n",
       "      <td>32828</td>\n",
       "      <td>32828</td>\n",
       "      <td>32833</td>\n",
       "      <td>32828</td>\n",
       "      <td>32833</td>\n",
       "      <td>32833</td>\n",
       "      <td>32833</td>\n",
       "      <td>32833</td>\n",
       "      <td>32833</td>\n",
       "    </tr>\n",
       "    <tr>\n",
       "      <th>unique</th>\n",
       "      <td>28356</td>\n",
       "      <td>23449</td>\n",
       "      <td>10692</td>\n",
       "      <td>22545</td>\n",
       "      <td>19743</td>\n",
       "      <td>4530</td>\n",
       "      <td>449</td>\n",
       "      <td>471</td>\n",
       "      <td>6</td>\n",
       "      <td>24</td>\n",
       "    </tr>\n",
       "    <tr>\n",
       "      <th>top</th>\n",
       "      <td>7BKLCZ1jbUBVqRi2FVlTVw</td>\n",
       "      <td>Poison</td>\n",
       "      <td>Martin Garrix</td>\n",
       "      <td>5L1xcowSxwzFUSJzvyMp48</td>\n",
       "      <td>Greatest Hits</td>\n",
       "      <td>2020-01-10</td>\n",
       "      <td>Indie Poptimism</td>\n",
       "      <td>4JkkvMpVl4lSioqQjeAL0q</td>\n",
       "      <td>edm</td>\n",
       "      <td>progressive electro house</td>\n",
       "    </tr>\n",
       "    <tr>\n",
       "      <th>freq</th>\n",
       "      <td>10</td>\n",
       "      <td>22</td>\n",
       "      <td>161</td>\n",
       "      <td>42</td>\n",
       "      <td>139</td>\n",
       "      <td>270</td>\n",
       "      <td>308</td>\n",
       "      <td>247</td>\n",
       "      <td>6043</td>\n",
       "      <td>1809</td>\n",
       "    </tr>\n",
       "  </tbody>\n",
       "</table>\n",
       "</div>"
      ],
      "text/plain": [
       "                      track_id track_name   track_artist  \\\n",
       "count                    32833      32828          32828   \n",
       "unique                   28356      23449          10692   \n",
       "top     7BKLCZ1jbUBVqRi2FVlTVw     Poison  Martin Garrix   \n",
       "freq                        10         22            161   \n",
       "\n",
       "                track_album_id track_album_name track_album_release_date  \\\n",
       "count                    32833            32828                    32833   \n",
       "unique                   22545            19743                     4530   \n",
       "top     5L1xcowSxwzFUSJzvyMp48    Greatest Hits               2020-01-10   \n",
       "freq                        42              139                      270   \n",
       "\n",
       "          playlist_name             playlist_id playlist_genre  \\\n",
       "count             32833                   32833          32833   \n",
       "unique              449                     471              6   \n",
       "top     Indie Poptimism  4JkkvMpVl4lSioqQjeAL0q            edm   \n",
       "freq                308                     247           6043   \n",
       "\n",
       "                playlist_subgenre  \n",
       "count                       32833  \n",
       "unique                         24  \n",
       "top     progressive electro house  \n",
       "freq                         1809  "
      ]
     },
     "execution_count": 72,
     "metadata": {},
     "output_type": "execute_result"
    }
   ],
   "source": [
    "#description des variables qualitatives\n",
    "spotify.describe(include='object') #beaucoup de variables qualitatives différentes par colonne, on ne pourra pas toutes les garder pour notre modèle\n",
    "                                #mais possibilité d'encoder notre variable à prédire : playlist_genre"
   ]
  },
  {
   "cell_type": "code",
   "execution_count": 73,
   "metadata": {},
   "outputs": [
    {
     "name": "stdout",
     "output_type": "stream",
     "text": [
      "Number of NaN : 15\n"
     ]
    }
   ],
   "source": [
    "#On affiche s'il y a des valeurs NaN\n",
    "print(\"Number of NaN :\", spotify.isna().sum().sum()) #à priori, 15 NaN dans notre fichier"
   ]
  },
  {
   "cell_type": "code",
   "execution_count": 74,
   "metadata": {},
   "outputs": [
    {
     "data": {
      "text/plain": [
       "track_id                    0\n",
       "track_name                  5\n",
       "track_artist                5\n",
       "track_popularity            0\n",
       "track_album_id              0\n",
       "track_album_name            5\n",
       "track_album_release_date    0\n",
       "playlist_name               0\n",
       "playlist_id                 0\n",
       "playlist_genre              0\n",
       "playlist_subgenre           0\n",
       "danceability                0\n",
       "energy                      0\n",
       "key                         0\n",
       "loudness                    0\n",
       "mode                        0\n",
       "speechiness                 0\n",
       "acousticness                0\n",
       "instrumentalness            0\n",
       "liveness                    0\n",
       "valence                     0\n",
       "tempo                       0\n",
       "duration_ms                 0\n",
       "dtype: int64"
      ]
     },
     "execution_count": 74,
     "metadata": {},
     "output_type": "execute_result"
    }
   ],
   "source": [
    "#Détails sur quelles colonnes\n",
    "spotify.isna().sum() #track_name, track_artist et track_album_name contiennent respectivement 5 NaN, peut-être les mêmes individus concernés ?"
   ]
  },
  {
   "cell_type": "code",
   "execution_count": 75,
   "metadata": {},
   "outputs": [
    {
     "data": {
      "text/html": [
       "<div>\n",
       "<style scoped>\n",
       "    .dataframe tbody tr th:only-of-type {\n",
       "        vertical-align: middle;\n",
       "    }\n",
       "\n",
       "    .dataframe tbody tr th {\n",
       "        vertical-align: top;\n",
       "    }\n",
       "\n",
       "    .dataframe thead th {\n",
       "        text-align: right;\n",
       "    }\n",
       "</style>\n",
       "<table border=\"1\" class=\"dataframe\">\n",
       "  <thead>\n",
       "    <tr style=\"text-align: right;\">\n",
       "      <th></th>\n",
       "      <th>track_id</th>\n",
       "      <th>track_name</th>\n",
       "      <th>track_artist</th>\n",
       "      <th>track_popularity</th>\n",
       "      <th>track_album_id</th>\n",
       "      <th>track_album_name</th>\n",
       "      <th>track_album_release_date</th>\n",
       "      <th>playlist_name</th>\n",
       "      <th>playlist_id</th>\n",
       "      <th>playlist_genre</th>\n",
       "      <th>playlist_subgenre</th>\n",
       "      <th>danceability</th>\n",
       "      <th>energy</th>\n",
       "      <th>key</th>\n",
       "      <th>loudness</th>\n",
       "      <th>mode</th>\n",
       "      <th>speechiness</th>\n",
       "      <th>acousticness</th>\n",
       "      <th>instrumentalness</th>\n",
       "      <th>liveness</th>\n",
       "      <th>valence</th>\n",
       "      <th>tempo</th>\n",
       "      <th>duration_ms</th>\n",
       "    </tr>\n",
       "  </thead>\n",
       "  <tbody>\n",
       "    <tr>\n",
       "      <th>8151</th>\n",
       "      <td>69gRFGOWY9OMpFJgFol1u0</td>\n",
       "      <td>NaN</td>\n",
       "      <td>NaN</td>\n",
       "      <td>0</td>\n",
       "      <td>717UG2du6utFe7CdmpuUe3</td>\n",
       "      <td>NaN</td>\n",
       "      <td>2012-01-05</td>\n",
       "      <td>HIP&amp;HOP</td>\n",
       "      <td>5DyJsJZOpMJh34WvUrQzMV</td>\n",
       "      <td>rap</td>\n",
       "      <td>southern hip hop</td>\n",
       "      <td>0.714</td>\n",
       "      <td>0.821</td>\n",
       "      <td>6</td>\n",
       "      <td>-7.635</td>\n",
       "      <td>1</td>\n",
       "      <td>0.1760</td>\n",
       "      <td>0.0410</td>\n",
       "      <td>0.00000</td>\n",
       "      <td>0.1160</td>\n",
       "      <td>0.649</td>\n",
       "      <td>95.999</td>\n",
       "      <td>282707</td>\n",
       "    </tr>\n",
       "    <tr>\n",
       "      <th>9282</th>\n",
       "      <td>5cjecvX0CmC9gK0Laf5EMQ</td>\n",
       "      <td>NaN</td>\n",
       "      <td>NaN</td>\n",
       "      <td>0</td>\n",
       "      <td>3luHJEPw434tvNbme3SP8M</td>\n",
       "      <td>NaN</td>\n",
       "      <td>2017-12-01</td>\n",
       "      <td>GANGSTA Rap</td>\n",
       "      <td>5GA8GDo7RQC3JEanT81B3g</td>\n",
       "      <td>rap</td>\n",
       "      <td>gangster rap</td>\n",
       "      <td>0.678</td>\n",
       "      <td>0.659</td>\n",
       "      <td>11</td>\n",
       "      <td>-5.364</td>\n",
       "      <td>0</td>\n",
       "      <td>0.3190</td>\n",
       "      <td>0.0534</td>\n",
       "      <td>0.00000</td>\n",
       "      <td>0.5530</td>\n",
       "      <td>0.191</td>\n",
       "      <td>146.153</td>\n",
       "      <td>202235</td>\n",
       "    </tr>\n",
       "    <tr>\n",
       "      <th>9283</th>\n",
       "      <td>5TTzhRSWQS4Yu8xTgAuq6D</td>\n",
       "      <td>NaN</td>\n",
       "      <td>NaN</td>\n",
       "      <td>0</td>\n",
       "      <td>3luHJEPw434tvNbme3SP8M</td>\n",
       "      <td>NaN</td>\n",
       "      <td>2017-12-01</td>\n",
       "      <td>GANGSTA Rap</td>\n",
       "      <td>5GA8GDo7RQC3JEanT81B3g</td>\n",
       "      <td>rap</td>\n",
       "      <td>gangster rap</td>\n",
       "      <td>0.465</td>\n",
       "      <td>0.820</td>\n",
       "      <td>10</td>\n",
       "      <td>-5.907</td>\n",
       "      <td>0</td>\n",
       "      <td>0.3070</td>\n",
       "      <td>0.0963</td>\n",
       "      <td>0.00000</td>\n",
       "      <td>0.0888</td>\n",
       "      <td>0.505</td>\n",
       "      <td>86.839</td>\n",
       "      <td>206465</td>\n",
       "    </tr>\n",
       "    <tr>\n",
       "      <th>19568</th>\n",
       "      <td>3VKFip3OdAvv4OfNTgFWeQ</td>\n",
       "      <td>NaN</td>\n",
       "      <td>NaN</td>\n",
       "      <td>0</td>\n",
       "      <td>717UG2du6utFe7CdmpuUe3</td>\n",
       "      <td>NaN</td>\n",
       "      <td>2012-01-05</td>\n",
       "      <td>Reggaeton viejito🔥</td>\n",
       "      <td>0si5tw70PIgPkY1Eva6V8f</td>\n",
       "      <td>latin</td>\n",
       "      <td>reggaeton</td>\n",
       "      <td>0.675</td>\n",
       "      <td>0.919</td>\n",
       "      <td>11</td>\n",
       "      <td>-6.075</td>\n",
       "      <td>0</td>\n",
       "      <td>0.0366</td>\n",
       "      <td>0.0606</td>\n",
       "      <td>0.00653</td>\n",
       "      <td>0.1030</td>\n",
       "      <td>0.726</td>\n",
       "      <td>97.017</td>\n",
       "      <td>252773</td>\n",
       "    </tr>\n",
       "    <tr>\n",
       "      <th>19811</th>\n",
       "      <td>69gRFGOWY9OMpFJgFol1u0</td>\n",
       "      <td>NaN</td>\n",
       "      <td>NaN</td>\n",
       "      <td>0</td>\n",
       "      <td>717UG2du6utFe7CdmpuUe3</td>\n",
       "      <td>NaN</td>\n",
       "      <td>2012-01-05</td>\n",
       "      <td>latin hip hop</td>\n",
       "      <td>3nH8aytdqNeRbcRCg3dw9q</td>\n",
       "      <td>latin</td>\n",
       "      <td>latin hip hop</td>\n",
       "      <td>0.714</td>\n",
       "      <td>0.821</td>\n",
       "      <td>6</td>\n",
       "      <td>-7.635</td>\n",
       "      <td>1</td>\n",
       "      <td>0.1760</td>\n",
       "      <td>0.0410</td>\n",
       "      <td>0.00000</td>\n",
       "      <td>0.1160</td>\n",
       "      <td>0.649</td>\n",
       "      <td>95.999</td>\n",
       "      <td>282707</td>\n",
       "    </tr>\n",
       "  </tbody>\n",
       "</table>\n",
       "</div>"
      ],
      "text/plain": [
       "                     track_id track_name track_artist  track_popularity  \\\n",
       "8151   69gRFGOWY9OMpFJgFol1u0        NaN          NaN                 0   \n",
       "9282   5cjecvX0CmC9gK0Laf5EMQ        NaN          NaN                 0   \n",
       "9283   5TTzhRSWQS4Yu8xTgAuq6D        NaN          NaN                 0   \n",
       "19568  3VKFip3OdAvv4OfNTgFWeQ        NaN          NaN                 0   \n",
       "19811  69gRFGOWY9OMpFJgFol1u0        NaN          NaN                 0   \n",
       "\n",
       "               track_album_id track_album_name track_album_release_date  \\\n",
       "8151   717UG2du6utFe7CdmpuUe3              NaN               2012-01-05   \n",
       "9282   3luHJEPw434tvNbme3SP8M              NaN               2017-12-01   \n",
       "9283   3luHJEPw434tvNbme3SP8M              NaN               2017-12-01   \n",
       "19568  717UG2du6utFe7CdmpuUe3              NaN               2012-01-05   \n",
       "19811  717UG2du6utFe7CdmpuUe3              NaN               2012-01-05   \n",
       "\n",
       "            playlist_name             playlist_id playlist_genre  \\\n",
       "8151              HIP&HOP  5DyJsJZOpMJh34WvUrQzMV            rap   \n",
       "9282          GANGSTA Rap  5GA8GDo7RQC3JEanT81B3g            rap   \n",
       "9283          GANGSTA Rap  5GA8GDo7RQC3JEanT81B3g            rap   \n",
       "19568  Reggaeton viejito🔥  0si5tw70PIgPkY1Eva6V8f          latin   \n",
       "19811       latin hip hop  3nH8aytdqNeRbcRCg3dw9q          latin   \n",
       "\n",
       "      playlist_subgenre  danceability  energy  key  loudness  mode  \\\n",
       "8151   southern hip hop         0.714   0.821    6    -7.635     1   \n",
       "9282       gangster rap         0.678   0.659   11    -5.364     0   \n",
       "9283       gangster rap         0.465   0.820   10    -5.907     0   \n",
       "19568         reggaeton         0.675   0.919   11    -6.075     0   \n",
       "19811     latin hip hop         0.714   0.821    6    -7.635     1   \n",
       "\n",
       "       speechiness  acousticness  instrumentalness  liveness  valence  \\\n",
       "8151        0.1760        0.0410           0.00000    0.1160    0.649   \n",
       "9282        0.3190        0.0534           0.00000    0.5530    0.191   \n",
       "9283        0.3070        0.0963           0.00000    0.0888    0.505   \n",
       "19568       0.0366        0.0606           0.00653    0.1030    0.726   \n",
       "19811       0.1760        0.0410           0.00000    0.1160    0.649   \n",
       "\n",
       "         tempo  duration_ms  \n",
       "8151    95.999       282707  \n",
       "9282   146.153       202235  \n",
       "9283    86.839       206465  \n",
       "19568   97.017       252773  \n",
       "19811   95.999       282707  "
      ]
     },
     "execution_count": 75,
     "metadata": {},
     "output_type": "execute_result"
    }
   ],
   "source": [
    "#Lignes correspondant au NaN dans track_name\n",
    "spotify[spotify['track_name'].isna()] #en regardant les 3 colonnes, ce sont bien les mêmes individus qui sont concernés"
   ]
  },
  {
   "cell_type": "code",
   "execution_count": 76,
   "metadata": {},
   "outputs": [],
   "source": [
    "#Etant donné que ce sont variabes qualitatives, il est difficile de les remplacer par la moyenne ou la médiane\n",
    "#ou par le mod puisque chaque ligne représente une chanson différente. On va donc supprimer ces lignes\n",
    "spotify = spotify.dropna()"
   ]
  },
  {
   "cell_type": "code",
   "execution_count": 77,
   "metadata": {},
   "outputs": [
    {
     "data": {
      "application/vnd.plotly.v1+json": {
       "config": {
        "plotlyServerURL": "https://plot.ly"
       },
       "data": [
        {
         "branchvalues": "total",
         "customdata": [
          [
           38.32206572769953
          ],
          [
           32.282752902155885
          ],
          [
           40.80941358024691
          ],
          [
           52.079352850539294
          ],
          [
           35.510258107213765
          ],
          [
           42.72514204545455
          ],
          [
           35.1875
          ],
          [
           35.84107744107744
          ],
          [
           53.77307110438729
          ],
          [
           53.84474522292994
          ],
          [
           42.475478468899524
          ],
          [
           43.477341389728096
          ],
          [
           51.09984152139461
          ],
          [
           32.68723274282224
          ],
          [
           28.032656663724627
          ],
          [
           54.00090497737557
          ],
          [
           45.68622280817403
          ],
          [
           56.82550930026572
          ],
          [
           26.867882808181317
          ],
          [
           52.925105485232066
          ],
          [
           36.46774193548387
          ],
          [
           50.30828814872192
          ],
          [
           43.327639751552795
          ],
          [
           50.523843416370106
          ],
          [
           34.83352639417508
          ],
          [
           47.04482825538521
          ],
          [
           47.74487016524424
          ],
          [
           41.22353157797827
          ],
          [
           43.23802890475361
          ],
          [
           41.72833770955363
          ]
         ],
         "domain": {
          "x": [
           0,
           1
          ],
          "y": [
           0,
           1
          ]
         },
         "hovertemplate": "labels=%{label}<br>count=%{value}<br>parent=%{parent}<br>id=%{id}<br>Popularity=%{color}<extra></extra>",
         "ids": [
          "Rock/Album rock",
          "Edm/Big room",
          "Rock/Classic rock",
          "Pop/Dance pop",
          "Edm/Electro house",
          "Pop/Electropop",
          "Rap/Gangster rap",
          "Rock/Hard rock",
          "Rap/Hip hop",
          "R&b/Hip pop",
          "Pop/Indie poptimism",
          "Latin/Latin hip hop",
          "Latin/Latin pop",
          "R&b/Neo soul",
          "R&b/New jack swing",
          "Rock/Permanent wave",
          "Edm/Pop edm",
          "Pop/Post-teen pop",
          "Edm/Progressive electro house",
          "Latin/Reggaeton",
          "Rap/Southern hip hop",
          "Rap/Trap",
          "Latin/Tropical",
          "R&b/Urban contemporary",
          "Edm",
          "Latin",
          "Pop",
          "R&b",
          "Rap",
          "Rock"
         ],
         "labels": [
          "Album rock",
          "Big room",
          "Classic rock",
          "Dance pop",
          "Electro house",
          "Electropop",
          "Gangster rap",
          "Hard rock",
          "Hip hop",
          "Hip pop",
          "Indie poptimism",
          "Latin hip hop",
          "Latin pop",
          "Neo soul",
          "New jack swing",
          "Permanent wave",
          "Pop edm",
          "Post-teen pop",
          "Progressive electro house",
          "Reggaeton",
          "Southern hip hop",
          "Trap",
          "Tropical",
          "Urban contemporary",
          "Edm",
          "Latin",
          "Pop",
          "R&b",
          "Rap",
          "Rock"
         ],
         "marker": {
          "coloraxis": "coloraxis",
          "colors": [
           38.32206572769953,
           32.282752902155885,
           40.80941358024691,
           52.079352850539294,
           35.510258107213765,
           42.72514204545455,
           35.1875,
           35.84107744107744,
           53.77307110438729,
           53.84474522292994,
           42.475478468899524,
           43.477341389728096,
           51.09984152139461,
           32.68723274282224,
           28.032656663724627,
           54.00090497737557,
           45.68622280817403,
           56.82550930026572,
           26.867882808181317,
           52.925105485232066,
           36.46774193548387,
           50.30828814872192,
           43.327639751552795,
           50.523843416370106,
           34.83352639417508,
           47.04482825538521,
           47.74487016524424,
           41.22353157797827,
           43.23802890475361,
           41.72833770955363
          ]
         },
         "name": "",
         "parents": [
          "Rock",
          "Edm",
          "Rock",
          "Pop",
          "Edm",
          "Pop",
          "Rap",
          "Rock",
          "Rap",
          "R&b",
          "Pop",
          "Latin",
          "Latin",
          "R&b",
          "R&b",
          "Rock",
          "Edm",
          "Pop",
          "Edm",
          "Latin",
          "Rap",
          "Rap",
          "Latin",
          "R&b",
          "",
          "",
          "",
          "",
          "",
          ""
         ],
         "type": "sunburst",
         "values": [
          1065,
          1206,
          1296,
          1298,
          1511,
          1408,
          1456,
          1485,
          1322,
          1256,
          1672,
          1655,
          1262,
          1637,
          1133,
          1105,
          1517,
          1129,
          1809,
          948,
          1674,
          1291,
          1288,
          1405,
          6043,
          5153,
          5507,
          5431,
          5743,
          4951
         ]
        }
       ],
       "layout": {
        "coloraxis": {
         "colorbar": {
          "title": {
           "text": "Popularity"
          }
         },
         "colorscale": [
          [
           0,
           "#0d0887"
          ],
          [
           0.1111111111111111,
           "#46039f"
          ],
          [
           0.2222222222222222,
           "#7201a8"
          ],
          [
           0.3333333333333333,
           "#9c179e"
          ],
          [
           0.4444444444444444,
           "#bd3786"
          ],
          [
           0.5555555555555556,
           "#d8576b"
          ],
          [
           0.6666666666666666,
           "#ed7953"
          ],
          [
           0.7777777777777778,
           "#fb9f3a"
          ],
          [
           0.8888888888888888,
           "#fdca26"
          ],
          [
           1,
           "#f0f921"
          ]
         ]
        },
        "legend": {
         "tracegroupgap": 0
        },
        "margin": {
         "t": 60
        },
        "template": {
         "data": {
          "bar": [
           {
            "error_x": {
             "color": "#2a3f5f"
            },
            "error_y": {
             "color": "#2a3f5f"
            },
            "marker": {
             "line": {
              "color": "#E5ECF6",
              "width": 0.5
             },
             "pattern": {
              "fillmode": "overlay",
              "size": 10,
              "solidity": 0.2
             }
            },
            "type": "bar"
           }
          ],
          "barpolar": [
           {
            "marker": {
             "line": {
              "color": "#E5ECF6",
              "width": 0.5
             },
             "pattern": {
              "fillmode": "overlay",
              "size": 10,
              "solidity": 0.2
             }
            },
            "type": "barpolar"
           }
          ],
          "carpet": [
           {
            "aaxis": {
             "endlinecolor": "#2a3f5f",
             "gridcolor": "white",
             "linecolor": "white",
             "minorgridcolor": "white",
             "startlinecolor": "#2a3f5f"
            },
            "baxis": {
             "endlinecolor": "#2a3f5f",
             "gridcolor": "white",
             "linecolor": "white",
             "minorgridcolor": "white",
             "startlinecolor": "#2a3f5f"
            },
            "type": "carpet"
           }
          ],
          "choropleth": [
           {
            "colorbar": {
             "outlinewidth": 0,
             "ticks": ""
            },
            "type": "choropleth"
           }
          ],
          "contour": [
           {
            "colorbar": {
             "outlinewidth": 0,
             "ticks": ""
            },
            "colorscale": [
             [
              0,
              "#0d0887"
             ],
             [
              0.1111111111111111,
              "#46039f"
             ],
             [
              0.2222222222222222,
              "#7201a8"
             ],
             [
              0.3333333333333333,
              "#9c179e"
             ],
             [
              0.4444444444444444,
              "#bd3786"
             ],
             [
              0.5555555555555556,
              "#d8576b"
             ],
             [
              0.6666666666666666,
              "#ed7953"
             ],
             [
              0.7777777777777778,
              "#fb9f3a"
             ],
             [
              0.8888888888888888,
              "#fdca26"
             ],
             [
              1,
              "#f0f921"
             ]
            ],
            "type": "contour"
           }
          ],
          "contourcarpet": [
           {
            "colorbar": {
             "outlinewidth": 0,
             "ticks": ""
            },
            "type": "contourcarpet"
           }
          ],
          "heatmap": [
           {
            "colorbar": {
             "outlinewidth": 0,
             "ticks": ""
            },
            "colorscale": [
             [
              0,
              "#0d0887"
             ],
             [
              0.1111111111111111,
              "#46039f"
             ],
             [
              0.2222222222222222,
              "#7201a8"
             ],
             [
              0.3333333333333333,
              "#9c179e"
             ],
             [
              0.4444444444444444,
              "#bd3786"
             ],
             [
              0.5555555555555556,
              "#d8576b"
             ],
             [
              0.6666666666666666,
              "#ed7953"
             ],
             [
              0.7777777777777778,
              "#fb9f3a"
             ],
             [
              0.8888888888888888,
              "#fdca26"
             ],
             [
              1,
              "#f0f921"
             ]
            ],
            "type": "heatmap"
           }
          ],
          "heatmapgl": [
           {
            "colorbar": {
             "outlinewidth": 0,
             "ticks": ""
            },
            "colorscale": [
             [
              0,
              "#0d0887"
             ],
             [
              0.1111111111111111,
              "#46039f"
             ],
             [
              0.2222222222222222,
              "#7201a8"
             ],
             [
              0.3333333333333333,
              "#9c179e"
             ],
             [
              0.4444444444444444,
              "#bd3786"
             ],
             [
              0.5555555555555556,
              "#d8576b"
             ],
             [
              0.6666666666666666,
              "#ed7953"
             ],
             [
              0.7777777777777778,
              "#fb9f3a"
             ],
             [
              0.8888888888888888,
              "#fdca26"
             ],
             [
              1,
              "#f0f921"
             ]
            ],
            "type": "heatmapgl"
           }
          ],
          "histogram": [
           {
            "marker": {
             "pattern": {
              "fillmode": "overlay",
              "size": 10,
              "solidity": 0.2
             }
            },
            "type": "histogram"
           }
          ],
          "histogram2d": [
           {
            "colorbar": {
             "outlinewidth": 0,
             "ticks": ""
            },
            "colorscale": [
             [
              0,
              "#0d0887"
             ],
             [
              0.1111111111111111,
              "#46039f"
             ],
             [
              0.2222222222222222,
              "#7201a8"
             ],
             [
              0.3333333333333333,
              "#9c179e"
             ],
             [
              0.4444444444444444,
              "#bd3786"
             ],
             [
              0.5555555555555556,
              "#d8576b"
             ],
             [
              0.6666666666666666,
              "#ed7953"
             ],
             [
              0.7777777777777778,
              "#fb9f3a"
             ],
             [
              0.8888888888888888,
              "#fdca26"
             ],
             [
              1,
              "#f0f921"
             ]
            ],
            "type": "histogram2d"
           }
          ],
          "histogram2dcontour": [
           {
            "colorbar": {
             "outlinewidth": 0,
             "ticks": ""
            },
            "colorscale": [
             [
              0,
              "#0d0887"
             ],
             [
              0.1111111111111111,
              "#46039f"
             ],
             [
              0.2222222222222222,
              "#7201a8"
             ],
             [
              0.3333333333333333,
              "#9c179e"
             ],
             [
              0.4444444444444444,
              "#bd3786"
             ],
             [
              0.5555555555555556,
              "#d8576b"
             ],
             [
              0.6666666666666666,
              "#ed7953"
             ],
             [
              0.7777777777777778,
              "#fb9f3a"
             ],
             [
              0.8888888888888888,
              "#fdca26"
             ],
             [
              1,
              "#f0f921"
             ]
            ],
            "type": "histogram2dcontour"
           }
          ],
          "mesh3d": [
           {
            "colorbar": {
             "outlinewidth": 0,
             "ticks": ""
            },
            "type": "mesh3d"
           }
          ],
          "parcoords": [
           {
            "line": {
             "colorbar": {
              "outlinewidth": 0,
              "ticks": ""
             }
            },
            "type": "parcoords"
           }
          ],
          "pie": [
           {
            "automargin": true,
            "type": "pie"
           }
          ],
          "scatter": [
           {
            "fillpattern": {
             "fillmode": "overlay",
             "size": 10,
             "solidity": 0.2
            },
            "type": "scatter"
           }
          ],
          "scatter3d": [
           {
            "line": {
             "colorbar": {
              "outlinewidth": 0,
              "ticks": ""
             }
            },
            "marker": {
             "colorbar": {
              "outlinewidth": 0,
              "ticks": ""
             }
            },
            "type": "scatter3d"
           }
          ],
          "scattercarpet": [
           {
            "marker": {
             "colorbar": {
              "outlinewidth": 0,
              "ticks": ""
             }
            },
            "type": "scattercarpet"
           }
          ],
          "scattergeo": [
           {
            "marker": {
             "colorbar": {
              "outlinewidth": 0,
              "ticks": ""
             }
            },
            "type": "scattergeo"
           }
          ],
          "scattergl": [
           {
            "marker": {
             "colorbar": {
              "outlinewidth": 0,
              "ticks": ""
             }
            },
            "type": "scattergl"
           }
          ],
          "scattermapbox": [
           {
            "marker": {
             "colorbar": {
              "outlinewidth": 0,
              "ticks": ""
             }
            },
            "type": "scattermapbox"
           }
          ],
          "scatterpolar": [
           {
            "marker": {
             "colorbar": {
              "outlinewidth": 0,
              "ticks": ""
             }
            },
            "type": "scatterpolar"
           }
          ],
          "scatterpolargl": [
           {
            "marker": {
             "colorbar": {
              "outlinewidth": 0,
              "ticks": ""
             }
            },
            "type": "scatterpolargl"
           }
          ],
          "scatterternary": [
           {
            "marker": {
             "colorbar": {
              "outlinewidth": 0,
              "ticks": ""
             }
            },
            "type": "scatterternary"
           }
          ],
          "surface": [
           {
            "colorbar": {
             "outlinewidth": 0,
             "ticks": ""
            },
            "colorscale": [
             [
              0,
              "#0d0887"
             ],
             [
              0.1111111111111111,
              "#46039f"
             ],
             [
              0.2222222222222222,
              "#7201a8"
             ],
             [
              0.3333333333333333,
              "#9c179e"
             ],
             [
              0.4444444444444444,
              "#bd3786"
             ],
             [
              0.5555555555555556,
              "#d8576b"
             ],
             [
              0.6666666666666666,
              "#ed7953"
             ],
             [
              0.7777777777777778,
              "#fb9f3a"
             ],
             [
              0.8888888888888888,
              "#fdca26"
             ],
             [
              1,
              "#f0f921"
             ]
            ],
            "type": "surface"
           }
          ],
          "table": [
           {
            "cells": {
             "fill": {
              "color": "#EBF0F8"
             },
             "line": {
              "color": "white"
             }
            },
            "header": {
             "fill": {
              "color": "#C8D4E3"
             },
             "line": {
              "color": "white"
             }
            },
            "type": "table"
           }
          ]
         },
         "layout": {
          "annotationdefaults": {
           "arrowcolor": "#2a3f5f",
           "arrowhead": 0,
           "arrowwidth": 1
          },
          "autotypenumbers": "strict",
          "coloraxis": {
           "colorbar": {
            "outlinewidth": 0,
            "ticks": ""
           }
          },
          "colorscale": {
           "diverging": [
            [
             0,
             "#8e0152"
            ],
            [
             0.1,
             "#c51b7d"
            ],
            [
             0.2,
             "#de77ae"
            ],
            [
             0.3,
             "#f1b6da"
            ],
            [
             0.4,
             "#fde0ef"
            ],
            [
             0.5,
             "#f7f7f7"
            ],
            [
             0.6,
             "#e6f5d0"
            ],
            [
             0.7,
             "#b8e186"
            ],
            [
             0.8,
             "#7fbc41"
            ],
            [
             0.9,
             "#4d9221"
            ],
            [
             1,
             "#276419"
            ]
           ],
           "sequential": [
            [
             0,
             "#0d0887"
            ],
            [
             0.1111111111111111,
             "#46039f"
            ],
            [
             0.2222222222222222,
             "#7201a8"
            ],
            [
             0.3333333333333333,
             "#9c179e"
            ],
            [
             0.4444444444444444,
             "#bd3786"
            ],
            [
             0.5555555555555556,
             "#d8576b"
            ],
            [
             0.6666666666666666,
             "#ed7953"
            ],
            [
             0.7777777777777778,
             "#fb9f3a"
            ],
            [
             0.8888888888888888,
             "#fdca26"
            ],
            [
             1,
             "#f0f921"
            ]
           ],
           "sequentialminus": [
            [
             0,
             "#0d0887"
            ],
            [
             0.1111111111111111,
             "#46039f"
            ],
            [
             0.2222222222222222,
             "#7201a8"
            ],
            [
             0.3333333333333333,
             "#9c179e"
            ],
            [
             0.4444444444444444,
             "#bd3786"
            ],
            [
             0.5555555555555556,
             "#d8576b"
            ],
            [
             0.6666666666666666,
             "#ed7953"
            ],
            [
             0.7777777777777778,
             "#fb9f3a"
            ],
            [
             0.8888888888888888,
             "#fdca26"
            ],
            [
             1,
             "#f0f921"
            ]
           ]
          },
          "colorway": [
           "#636efa",
           "#EF553B",
           "#00cc96",
           "#ab63fa",
           "#FFA15A",
           "#19d3f3",
           "#FF6692",
           "#B6E880",
           "#FF97FF",
           "#FECB52"
          ],
          "font": {
           "color": "#2a3f5f"
          },
          "geo": {
           "bgcolor": "white",
           "lakecolor": "white",
           "landcolor": "#E5ECF6",
           "showlakes": true,
           "showland": true,
           "subunitcolor": "white"
          },
          "hoverlabel": {
           "align": "left"
          },
          "hovermode": "closest",
          "mapbox": {
           "style": "light"
          },
          "paper_bgcolor": "white",
          "plot_bgcolor": "#E5ECF6",
          "polar": {
           "angularaxis": {
            "gridcolor": "white",
            "linecolor": "white",
            "ticks": ""
           },
           "bgcolor": "#E5ECF6",
           "radialaxis": {
            "gridcolor": "white",
            "linecolor": "white",
            "ticks": ""
           }
          },
          "scene": {
           "xaxis": {
            "backgroundcolor": "#E5ECF6",
            "gridcolor": "white",
            "gridwidth": 2,
            "linecolor": "white",
            "showbackground": true,
            "ticks": "",
            "zerolinecolor": "white"
           },
           "yaxis": {
            "backgroundcolor": "#E5ECF6",
            "gridcolor": "white",
            "gridwidth": 2,
            "linecolor": "white",
            "showbackground": true,
            "ticks": "",
            "zerolinecolor": "white"
           },
           "zaxis": {
            "backgroundcolor": "#E5ECF6",
            "gridcolor": "white",
            "gridwidth": 2,
            "linecolor": "white",
            "showbackground": true,
            "ticks": "",
            "zerolinecolor": "white"
           }
          },
          "shapedefaults": {
           "line": {
            "color": "#2a3f5f"
           }
          },
          "ternary": {
           "aaxis": {
            "gridcolor": "white",
            "linecolor": "white",
            "ticks": ""
           },
           "baxis": {
            "gridcolor": "white",
            "linecolor": "white",
            "ticks": ""
           },
           "bgcolor": "#E5ECF6",
           "caxis": {
            "gridcolor": "white",
            "linecolor": "white",
            "ticks": ""
           }
          },
          "title": {
           "x": 0.05
          },
          "xaxis": {
           "automargin": true,
           "gridcolor": "white",
           "linecolor": "white",
           "ticks": "",
           "title": {
            "standoff": 15
           },
           "zerolinecolor": "white",
           "zerolinewidth": 2
          },
          "yaxis": {
           "automargin": true,
           "gridcolor": "white",
           "linecolor": "white",
           "ticks": "",
           "title": {
            "standoff": 15
           },
           "zerolinecolor": "white",
           "zerolinewidth": 2
          }
         }
        }
       }
      }
     },
     "metadata": {},
     "output_type": "display_data"
    }
   ],
   "source": [
    "#Représentation de notre variable à prédire par rapport à la variable playlist_subgenre\n",
    "spotify[['playlist_genre', 'playlist_subgenre']] = spotify[['playlist_genre', 'playlist_subgenre']] \\\n",
    "                                                  .apply(lambda x: x.str.capitalize(), axis=1)\n",
    "fig = px.sunburst(spotify,\n",
    "                  path=['playlist_genre', 'playlist_subgenre'], \n",
    "                  color='track_popularity', \n",
    "                  labels={'track_popularity': 'Popularity'})\n",
    "fig.show()"
   ]
  },
  {
   "cell_type": "code",
   "execution_count": 78,
   "metadata": {},
   "outputs": [
    {
     "name": "stdout",
     "output_type": "stream",
     "text": [
      "['Pop' 'Rap' 'Rock' 'Latin' 'R&b' 'Edm']\n"
     ]
    },
    {
     "data": {
      "text/plain": [
       "(6,)"
      ]
     },
     "execution_count": 78,
     "metadata": {},
     "output_type": "execute_result"
    }
   ],
   "source": [
    "#Variable à prédire\n",
    "y = spotify[\"playlist_genre\"]\n",
    "y_label = spotify[\"playlist_genre\"].unique()\n",
    "spotify.drop(columns=['playlist_genre'], inplace=True) #on retire la variable cible du dataset\n",
    "print(y_label) #représente le genre de la musique\n",
    "y_label.shape #on a 6 modalités, pop, rap, rock, latino, rhythm and blues (r&b) et electronic (edm)"
   ]
  },
  {
   "cell_type": "code",
   "execution_count": 79,
   "metadata": {},
   "outputs": [
    {
     "name": "stdout",
     "output_type": "stream",
     "text": [
      "playlist_genre\n",
      "Edm      6043\n",
      "Rap      5743\n",
      "Pop      5507\n",
      "R&b      5431\n",
      "Latin    5153\n",
      "Rock     4951\n",
      "Name: count, dtype: int64\n",
      "playlist_genre\n",
      "Edm      0.184081\n",
      "Rap      0.174942\n",
      "Pop      0.167753\n",
      "R&b      0.165438\n",
      "Latin    0.156970\n",
      "Rock     0.150816\n",
      "Name: count, dtype: float64\n"
     ]
    }
   ],
   "source": [
    "#les classes sont-elles équilibrées ? Si non, possibilité d'over- ou under-sampling\n",
    "nb_y = y.value_counts()\n",
    "print(nb_y)\n",
    "freq_y = y.value_counts() / len(y)\n",
    "print(freq_y) #les classes sont bien équilibrées"
   ]
  },
  {
   "cell_type": "code",
   "execution_count": 80,
   "metadata": {},
   "outputs": [
    {
     "name": "stdout",
     "output_type": "stream",
     "text": [
      "None\n"
     ]
    }
   ],
   "source": [
    "#On garde seulement l'année de sortie de l'album et on label encoding\n",
    "spotify['track_album_release_date'] = spotify['track_album_release_date'].str[:4]\n",
    "year = spotify['track_album_release_date'].unique()\n",
    "print(year.sort())\n",
    "from sklearn.preprocessing import LabelEncoder\n",
    "le = LabelEncoder()\n",
    "#spotify['track_album_release_date'] = le.fit_transform(spotify['track_album_release_date'])\n",
    "\n",
    "#Classe d'années\n"
   ]
  },
  {
   "cell_type": "code",
   "execution_count": 64,
   "metadata": {},
   "outputs": [],
   "source": [
    "#Suppression des variables trop corrélées à a variable cible et des variables qualitatives avec beaucoup de modalités\n",
    "spotify.drop(columns=['track_id','track_artist','track_album_id', 'track_album_name','track_album_release_date','track_name', 'playlist_id','playlist_subgenre','playlist_name'], axis=1, inplace=True)"
   ]
  },
  {
   "cell_type": "code",
   "execution_count": 65,
   "metadata": {},
   "outputs": [
    {
     "data": {
      "text/html": [
       "<div>\n",
       "<style scoped>\n",
       "    .dataframe tbody tr th:only-of-type {\n",
       "        vertical-align: middle;\n",
       "    }\n",
       "\n",
       "    .dataframe tbody tr th {\n",
       "        vertical-align: top;\n",
       "    }\n",
       "\n",
       "    .dataframe thead th {\n",
       "        text-align: right;\n",
       "    }\n",
       "</style>\n",
       "<table border=\"1\" class=\"dataframe\">\n",
       "  <thead>\n",
       "    <tr style=\"text-align: right;\">\n",
       "      <th></th>\n",
       "      <th>track_popularity</th>\n",
       "      <th>danceability</th>\n",
       "      <th>energy</th>\n",
       "      <th>key</th>\n",
       "      <th>loudness</th>\n",
       "      <th>mode</th>\n",
       "      <th>speechiness</th>\n",
       "      <th>acousticness</th>\n",
       "      <th>instrumentalness</th>\n",
       "      <th>liveness</th>\n",
       "      <th>valence</th>\n",
       "      <th>tempo</th>\n",
       "      <th>duration_ms</th>\n",
       "    </tr>\n",
       "  </thead>\n",
       "  <tbody>\n",
       "    <tr>\n",
       "      <th>0</th>\n",
       "      <td>66</td>\n",
       "      <td>0.748</td>\n",
       "      <td>0.916</td>\n",
       "      <td>6</td>\n",
       "      <td>-2.634</td>\n",
       "      <td>1</td>\n",
       "      <td>0.0583</td>\n",
       "      <td>0.1020</td>\n",
       "      <td>0.000000</td>\n",
       "      <td>0.0653</td>\n",
       "      <td>0.518</td>\n",
       "      <td>122.036</td>\n",
       "      <td>194754</td>\n",
       "    </tr>\n",
       "    <tr>\n",
       "      <th>1</th>\n",
       "      <td>67</td>\n",
       "      <td>0.726</td>\n",
       "      <td>0.815</td>\n",
       "      <td>11</td>\n",
       "      <td>-4.969</td>\n",
       "      <td>1</td>\n",
       "      <td>0.0373</td>\n",
       "      <td>0.0724</td>\n",
       "      <td>0.004210</td>\n",
       "      <td>0.3570</td>\n",
       "      <td>0.693</td>\n",
       "      <td>99.972</td>\n",
       "      <td>162600</td>\n",
       "    </tr>\n",
       "    <tr>\n",
       "      <th>2</th>\n",
       "      <td>70</td>\n",
       "      <td>0.675</td>\n",
       "      <td>0.931</td>\n",
       "      <td>1</td>\n",
       "      <td>-3.432</td>\n",
       "      <td>0</td>\n",
       "      <td>0.0742</td>\n",
       "      <td>0.0794</td>\n",
       "      <td>0.000023</td>\n",
       "      <td>0.1100</td>\n",
       "      <td>0.613</td>\n",
       "      <td>124.008</td>\n",
       "      <td>176616</td>\n",
       "    </tr>\n",
       "    <tr>\n",
       "      <th>3</th>\n",
       "      <td>60</td>\n",
       "      <td>0.718</td>\n",
       "      <td>0.930</td>\n",
       "      <td>7</td>\n",
       "      <td>-3.778</td>\n",
       "      <td>1</td>\n",
       "      <td>0.1020</td>\n",
       "      <td>0.0287</td>\n",
       "      <td>0.000009</td>\n",
       "      <td>0.2040</td>\n",
       "      <td>0.277</td>\n",
       "      <td>121.956</td>\n",
       "      <td>169093</td>\n",
       "    </tr>\n",
       "    <tr>\n",
       "      <th>4</th>\n",
       "      <td>69</td>\n",
       "      <td>0.650</td>\n",
       "      <td>0.833</td>\n",
       "      <td>1</td>\n",
       "      <td>-4.672</td>\n",
       "      <td>1</td>\n",
       "      <td>0.0359</td>\n",
       "      <td>0.0803</td>\n",
       "      <td>0.000000</td>\n",
       "      <td>0.0833</td>\n",
       "      <td>0.725</td>\n",
       "      <td>123.976</td>\n",
       "      <td>189052</td>\n",
       "    </tr>\n",
       "  </tbody>\n",
       "</table>\n",
       "</div>"
      ],
      "text/plain": [
       "   track_popularity  danceability  energy  key  loudness  mode  speechiness  \\\n",
       "0                66         0.748   0.916    6    -2.634     1       0.0583   \n",
       "1                67         0.726   0.815   11    -4.969     1       0.0373   \n",
       "2                70         0.675   0.931    1    -3.432     0       0.0742   \n",
       "3                60         0.718   0.930    7    -3.778     1       0.1020   \n",
       "4                69         0.650   0.833    1    -4.672     1       0.0359   \n",
       "\n",
       "   acousticness  instrumentalness  liveness  valence    tempo  duration_ms  \n",
       "0        0.1020          0.000000    0.0653    0.518  122.036       194754  \n",
       "1        0.0724          0.004210    0.3570    0.693   99.972       162600  \n",
       "2        0.0794          0.000023    0.1100    0.613  124.008       176616  \n",
       "3        0.0287          0.000009    0.2040    0.277  121.956       169093  \n",
       "4        0.0803          0.000000    0.0833    0.725  123.976       189052  "
      ]
     },
     "execution_count": 65,
     "metadata": {},
     "output_type": "execute_result"
    }
   ],
   "source": [
    "spotify.head(5)"
   ]
  },
  {
   "cell_type": "code",
   "execution_count": 63,
   "metadata": {},
   "outputs": [
    {
     "name": "stdout",
     "output_type": "stream",
     "text": [
      "0        0\n",
      "1        0\n",
      "2        0\n",
      "3        0\n",
      "4        0\n",
      "        ..\n",
      "32828    5\n",
      "32829    5\n",
      "32830    5\n",
      "32831    5\n",
      "32832    5\n",
      "Name: playlist_genre, Length: 32828, dtype: int64\n"
     ]
    }
   ],
   "source": [
    "#modify y by assigning a number to each class\n",
    "y = y.replace('Pop', 0)\n",
    "y = y.replace('Rap', 1)\n",
    "y = y.replace('Rock', 2)\n",
    "y = y.replace('R&b', 3)\n",
    "y = y.replace('Latin', 4)\n",
    "y = y.replace('Edm', 5)\n",
    "print(y)"
   ]
  },
  {
   "cell_type": "code",
   "execution_count": 66,
   "metadata": {},
   "outputs": [],
   "source": [
    "#normalisation des données\n",
    "scaler = StandardScaler()\n",
    "spotify = scaler.fit_transform(spotify)"
   ]
  },
  {
   "cell_type": "markdown",
   "metadata": {},
   "source": [
    "## Test avec d'autres modèles de classification\n",
    "Aucun travail de classification a été fait avec ce jeu de données, nous allons tester d'autres modèles de machine learning afin de pouvoir comparer nos résultats"
   ]
  },
  {
   "cell_type": "code",
   "execution_count": 36,
   "metadata": {},
   "outputs": [],
   "source": [
    "train_X, test_X, train_y, test_y = train_test_split(spotify, y, \n",
    "                                                    train_size=0.7,\n",
    "                                                    test_size=0.3,\n",
    "                                                    random_state=100,\n",
    "                                                    stratify=y)"
   ]
  },
  {
   "cell_type": "code",
   "execution_count": 37,
   "metadata": {},
   "outputs": [
    {
     "name": "stdout",
     "output_type": "stream",
     "text": [
      "Accuracy score of logistic regression classifier on test set: 0.47\n",
      "Accuracy score of Decision Tree classifier on test set: 0.43\n",
      "Accuracy score of KNN classifier on test set: 0.46\n",
      "Accuracy score of Random Forest classifier on test set: 0.55\n"
     ]
    }
   ],
   "source": [
    "from sklearn.linear_model import LogisticRegression\n",
    "from sklearn.metrics import accuracy_score\n",
    "\n",
    "#Logistic Regression\n",
    "logreg = LogisticRegression()\n",
    "logreg.fit(train_X, train_y)\n",
    "y_pred = logreg.predict(test_X)\n",
    "print('Accuracy score of logistic regression classifier on test set: {:.2f}'.format(accuracy_score(test_y, y_pred)))\n",
    "\n",
    "#Decision Tree\n",
    "from sklearn.tree import DecisionTreeClassifier\n",
    "clf = DecisionTreeClassifier().fit(train_X, train_y)\n",
    "y_pred = clf.predict(test_X)\n",
    "print('Accuracy score of Decision Tree classifier on test set: {:.2f}'.format(accuracy_score(test_y, y_pred)))\n",
    "\n",
    "#KNN\n",
    "from sklearn.neighbors import KNeighborsClassifier\n",
    "knn = KNeighborsClassifier()\n",
    "knn.fit(train_X, train_y)\n",
    "y_pred = knn.predict(test_X)\n",
    "print('Accuracy score of KNN classifier on test set: {:.2f}'.format(accuracy_score(test_y, y_pred)))\n",
    "\n",
    "#Random Forest\n",
    "from sklearn.ensemble import RandomForestClassifier\n",
    "rf = RandomForestClassifier()\n",
    "rf.fit(train_X, train_y)\n",
    "y_pred = rf.predict(test_X)\n",
    "print('Accuracy score of Random Forest classifier on test set: {:.2f}'.format(accuracy_score(test_y, y_pred)))"
   ]
  },
  {
   "cell_type": "markdown",
   "metadata": {},
   "source": [
    "## Implémentation"
   ]
  },
  {
   "cell_type": "code",
   "execution_count": 39,
   "metadata": {},
   "outputs": [
    {
     "name": "stdout",
     "output_type": "stream",
     "text": [
      "Dimension de X train torch.Size([22979, 13])\n",
      "Dimension de X test torch.Size([9849, 13])\n",
      "Dimension de Y torch.Size([22979])\n"
     ]
    }
   ],
   "source": [
    "#change Y to numpy.ndarray\n",
    "train_y = train_y.to_numpy()\n",
    "test_y = test_y.to_numpy()\n",
    "\n",
    "## Transformer les données en Tenseurs \n",
    "X_train = torch.FloatTensor(train_X)\n",
    "X_test = torch.FloatTensor(test_X)\n",
    "Y_train = torch.LongTensor(train_y)\n",
    "Y_test = torch.LongTensor(test_y)\n",
    " \n",
    "print(\"Dimension de X train\",X_train.shape)\n",
    "print(\"Dimension de X test\",X_test.shape)\n",
    "print(\"Dimension de Y\", Y_train.shape)"
   ]
  },
  {
   "cell_type": "markdown",
   "metadata": {},
   "source": [
    "On transforme la variable cible pour obtenir un codage disjonctif complet, autrement appelé *one hot encoding* :\n",
    "\n",
    "- 0 -> (1,0,0,0,0,0)    pop\n",
    "- 1 -> (0,1,0,0,0,0)    rap\n",
    "- 2 -> (0,0,1,0,0,0)    rock\n",
    "- 3 -> (0,0,0,1,0,0)    r&b\n",
    "- 4 -> (0,0,0,0,1,0)    latin\n",
    "- 5 -> (0,0,0,0,0,1)    edm\n"
   ]
  },
  {
   "cell_type": "code",
   "execution_count": 40,
   "metadata": {},
   "outputs": [],
   "source": [
    "Y_train_cat = torch.nn.functional.one_hot(Y_train)\n",
    "Y_test_cat = torch.nn.functional.one_hot(Y_test)"
   ]
  },
  {
   "cell_type": "code",
   "execution_count": 41,
   "metadata": {},
   "outputs": [],
   "source": [
    "dataset_train = custom_functions.CustomDataset(X_train, Y_train_cat)\n",
    "batch_size = 1000\n",
    "dataloader = custom_functions.get_dataloader(dataset_train, batch_size, shuffle=True)"
   ]
  },
  {
   "cell_type": "markdown",
   "metadata": {},
   "source": [
    "## Perceptron avec une couche cachée"
   ]
  },
  {
   "cell_type": "markdown",
   "metadata": {},
   "source": [
    "### Description du modèle"
   ]
  },
  {
   "cell_type": "code",
   "execution_count": 42,
   "metadata": {},
   "outputs": [
    {
     "name": "stdout",
     "output_type": "stream",
     "text": [
      "Sequential(\n",
      "  (0): Linear(in_features=13, out_features=32, bias=True)\n",
      "  (1): ReLU()\n",
      "  (2): Linear(in_features=32, out_features=64, bias=True)\n",
      "  (3): ReLU()\n",
      "  (4): Linear(in_features=64, out_features=6, bias=True)\n",
      ")\n"
     ]
    }
   ],
   "source": [
    "# Le modèle : un simple MLP à 1 couche cachée\n",
    "D_in = 13  # dimension de l'input : 4 \n",
    "D_hidden = 32 # dimension de la couche cachée : 64\n",
    "D_hidden2 = 64 # dimension de la couche cachée : 64\n",
    "D_out = 6 # dimension de l'output : 3\n",
    " \n",
    "# Utilisation d'un constructeur séquentiel pour définir l'architecture du réseau\n",
    "model = torch.nn.Sequential(\n",
    "    torch.nn.Linear(D_in, D_hidden),\n",
    "    torch.nn.ReLU(),\n",
    "    torch.nn.Linear(D_hidden, D_hidden2),\n",
    "    torch.nn.ReLU(),\n",
    "    torch.nn.Linear(D_hidden2, D_out),\n",
    ")\n",
    "print(model) \n",
    " \n",
    "loss_fn = torch.nn.CrossEntropyLoss(reduction='sum') # La fonction de coût cross entropy\n",
    "learning_rate = 1e-2   # le pas d'apprentissage\n",
    "#optimizer = torch.optim.SGD(model.parameters(), lr=learning_rate) # l'optimiseur\n",
    "optimizer = torch.optim.Adam(model.parameters(), lr=learning_rate) # l'optimiseur"
   ]
  },
  {
   "cell_type": "code",
   "execution_count": 43,
   "metadata": {},
   "outputs": [
    {
     "name": "stdout",
     "output_type": "stream",
     "text": [
      "Couche 0: [32, 13] (\u001b[34m416\u001b[0m paramètres entrainables)\n",
      "Couche 1: [32] (\u001b[34m32\u001b[0m paramètres entrainables)\n",
      "Couche 2: [64, 32] (\u001b[34m2048\u001b[0m paramètres entrainables)\n",
      "Couche 3: [64] (\u001b[34m64\u001b[0m paramètres entrainables)\n",
      "Couche 4: [6, 64] (\u001b[34m384\u001b[0m paramètres entrainables)\n",
      "Couche 5: [6] (\u001b[34m6\u001b[0m paramètres entrainables)\n",
      "  = \u001b[31m2950\u001b[0m paramètres entrainables\n"
     ]
    }
   ],
   "source": [
    "custom_functions.summary(model)"
   ]
  },
  {
   "cell_type": "markdown",
   "metadata": {},
   "source": [
    "### Apprentissage du modèle"
   ]
  },
  {
   "cell_type": "code",
   "execution_count": 129,
   "metadata": {},
   "outputs": [
    {
     "name": "stdout",
     "output_type": "stream",
     "text": [
      "epoch 0 : loss 34663.1931 val 47.56%\n",
      "epoch 20 : loss 26276.7308 val 54.67%\n",
      "epoch 40 : loss 25429.1092 val 54.83%\n",
      "epoch 60 : loss 25105.6383 val 54.72%\n",
      "epoch 80 : loss 24684.7096 val 53.85%\n",
      "epoch 100 : loss 24608.4738 val 54.04%\n",
      "epoch 120 : loss 24447.5088 val 53.62%\n",
      "epoch 140 : loss 24366.9685 val 53.80%\n",
      "epoch 160 : loss 24265.9719 val 53.59%\n",
      "epoch 180 : loss 24184.8575 val 53.80%\n"
     ]
    }
   ],
   "source": [
    "Nepochs = 200 # Nombre d'époques (Nombre de passes sur toutes les données) \n",
    "Nprint  = Nepochs/10  # fréquence de l'affichage\n",
    "\n",
    "# mesures que l'on souhaite enregistrer pour monitorer l'apprentissage (log)\n",
    "log_loss_batch = []\n",
    "log_loss = []\n",
    "log_acc_val = []\n",
    "\n",
    "for epoch in range(Nepochs):\n",
    "    total=0.\n",
    "    for batch_idx, (data, target) in enumerate(dataloader): # 1 batch\n",
    "        loss_batch=0.\n",
    "        lenB = data.shape[0]\n",
    "        optimizer.zero_grad()\n",
    "        prediction = model(data)\n",
    "        loss = loss_fn(prediction, target.double())\n",
    "        loss.backward()  # backpropagation à travers le réseau       \n",
    "        optimizer.step() # mise à jour des paramètres du réseau ( w = w -lr * w.grad) équivalent à une itération du SGD\n",
    "        loss_batch+=loss # calcul de la loss sur tous les exemples du batch\n",
    "        total += loss_batch # calcul de la loss sur tous les exemples d'entraînement\n",
    "        # on enregistre les informations pour le monitoring\n",
    "        log_loss_batch.append(loss_batch.item())\n",
    "        pred_val = model(X_test)\n",
    "        acc_val = custom_functions.get_accuracy_multiclass(pred_val,Y_test_cat,6)\n",
    "        log_acc_val.append(acc_val)\n",
    "    # affichage\n",
    "    if epoch%Nprint==0:\n",
    "        print(f\"epoch {epoch} : loss {total:.4f} val {acc_val:.2%}\")\n",
    "    log_loss.append(total.item())"
   ]
  },
  {
   "cell_type": "markdown",
   "metadata": {},
   "source": [
    "### Prédiction du modèle"
   ]
  },
  {
   "cell_type": "code",
   "execution_count": 130,
   "metadata": {},
   "outputs": [
    {
     "name": "stdout",
     "output_type": "stream",
     "text": [
      "accuracy : 54.00%\n"
     ]
    }
   ],
   "source": [
    "predictions_test = model(X_test)\n",
    "acc_val = custom_functions.get_accuracy_multiclass(predictions_test,Y_test_cat,6)\n",
    "print(f\"accuracy : {acc_val:.2%}\")"
   ]
  },
  {
   "cell_type": "code",
   "execution_count": null,
   "metadata": {},
   "outputs": [],
   "source": []
  }
 ],
 "metadata": {
  "kernelspec": {
   "display_name": "Python 3",
   "language": "python",
   "name": "python3"
  },
  "language_info": {
   "codemirror_mode": {
    "name": "ipython",
    "version": 3
   },
   "file_extension": ".py",
   "mimetype": "text/x-python",
   "name": "python",
   "nbconvert_exporter": "python",
   "pygments_lexer": "ipython3",
   "version": "3.11.4"
  },
  "orig_nbformat": 4
 },
 "nbformat": 4,
 "nbformat_minor": 2
}
